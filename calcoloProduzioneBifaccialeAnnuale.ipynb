!pip install pvlib
!pip install solarfactors

import pandas as pd
from pvlib import location
from pvlib.bifacial.pvfactors import pvfactors_timeseries
import matplotlib.pyplot as plt
import warnings
from IPython.display import display # Per una migliore visualizzazione delle tabelle in Colab

# supressing shapely warnings that occur on import of pvfactors
warnings.filterwarnings(action='ignore', module='pvfactors')

# %%
# --- PARAMETRI DI SIMULAZIONE E LUOGO ---

# Periodo di simulazione: Un anno intero
# Frequenza: Ogni ora (più gestibile per un anno intero rispetto a 1 minuto)
times = pd.date_range('2021-01-01', '2022-01-01', freq='1H', tz='Europe/Rome', inclusive='left') # include 2021 fino a 2021-12-31 23:00

loc = location.Location(latitude=45.12, longitude=9.21, tz=times.tz)
sp = loc.get_solarposition(times)
cs = loc.get_clearsky(times) # Per semplicità usiamo il cielo sereno, ma si potrebbe usare un file TMY per dati reali.

# --- GEOMETRIA DELL'ARRAY PV ---
pvrow_height = 2
pvrow_width = 8
pitch = 10
gcr = pvrow_width / pitch
axis_azimuth = 180
albedo = 0.2

# --- PARAMETRI DEL SISTEMA PV PER IL CALCOLO DELLA PRODUZIONE ---
# Assicurati di impostare questi valori in base al tuo impianto reale
system_total_area_front_side_m2 = 50.0  # Area totale frontale attiva di tutti i moduli PV del tuo impianto in m^2.
                                        # Esempio: 25 moduli da 2m^2 ciascuno = 50 m^2
module_efficiency = 0.20                # Efficienza complessiva del modulo (es. 20% = 0.20)
bifaciality_factor = 0.70               # Fattore di bifacialità (es. 0.70 significa che la parte posteriore è efficace al 70% rispetto a quella anteriore)

# Intervallo di tempo in ore (freq='1H' significa 1 ora)
time_interval_hours = (times[1] - times[0]).total_seconds() / 3600
# --- FINE PARAMETRI ---

# %%
# Simulazione dell'irradianza con pvfactors (eseguita una sola volta)
# pvfactors_timeseries by default returns 'total_abs_front' and 'total_abs_back'
irrad_data = pvfactors_timeseries(
    solar_azimuth=sp['azimuth'],
    solar_zenith=sp['apparent_zenith'],
    surface_azimuth=180,  # south-facing array
    surface_tilt=30,
    axis_azimuth=90,
    timestamps=times,
    dni=cs['dni'],
    dhi=cs['dhi'],
    gcr=gcr,
    pvrow_height=pvrow_height,
    pvrow_width=pvrow_width,
    albedo=albedo,
    n_pvrows=3,
    index_observed_pvrow=1
)

# Converti i risultati in un Pandas DataFrame
irrad = pd.concat(irrad_data, axis=1)

# --- CALCOLO DELLA PRODUZIONE ---

# Ottieni i valori di irradianza assorbita (W/m^2)
absorbed_irradiance_front = irrad['total_abs_front']
absorbed_irradiance_back = irrad['total_abs_back']

# --- CALCOLO PER IMPIANTO BIFACCIALE ---
# Densità di potenza efficace tenendo conto della bifacialità
effective_power_density_wpm2_bifacial = (absorbed_irradiance_front +
                                         absorbed_irradiance_back * bifaciality_factor)
# Potenza istantanea (W) per l'intero sistema bifacciale
system_ac_power_w_bifacial = effective_power_density_wpm2_bifacial * system_total_area_front_side_m2 * module_efficiency
# Energia (kWh) per ogni intervallo di tempo per il sistema bifacciale
energy_kwh_per_interval_bifacial = system_ac_power_w_bifacial / 1000 * time_interval_hours

# --- CALCOLO PER IMPIANTO MONOFACCIALE ---
# Per la monofacciale, consideriamo solo l'irradianza frontale assorbita
effective_power_density_wpm2_monofacial = absorbed_irradiance_front
# Potenza istantanea (W) per l'intero sistema monofacciale
system_ac_power_w_monofacial = effective_power_density_wpm2_monofacial * system_total_area_front_side_m2 * module_efficiency
# Energia (kWh) per ogni intervallo di tempo per il sistema monofacciale
energy_kwh_per_interval_monofacial = system_ac_power_w_monofacial / 1000 * time_interval_hours

# --- AGGREGAZIONE MENSILE ---

# Crea un DataFrame per i risultati orari
hourly_energy_df = pd.DataFrame({
    'Bifacial_kWh_Hourly': energy_kwh_per_interval_bifacial,
    'Monofacial_kWh_Hourly': energy_kwh_per_interval_monofacial
})

# Aggrega i dati per mese
monthly_production_df = hourly_energy_df.resample('M').sum()

# Aggiungi una colonna con i nomi dei mesi per una migliore leggibilità
monthly_production_df['Month'] = monthly_production_df.index.strftime('%B')
# Riordina le colonne per avere il mese all'inizio
monthly_production_df = monthly_production_df[['Month', 'Bifacial_kWh_Hourly', 'Monofacial_kWh_Hourly']]
# Rinomina le colonne di energia per chiarezza nella tabella finale
monthly_production_df = monthly_production_df.rename(columns={
    'Bifacial_kWh_Hourly': 'Bifacial_kWh_Monthly',
    'Monofacial_kWh_Hourly': 'Monofacial_kWh_Monthly'
})

# --- STAMPA DEI RISULTATI ---

print(f"\n--- Riepilogo dei Parametri del Sistema ---")
print(f"Area totale del sistema (frontale): {system_total_area_front_side_m2} m^2")
print(f"Efficienza del modulo: {module_efficiency*100:.1f}%")
print(f"Fattore di bifacialità: {bifaciality_factor:.2f}")
print(f"Durata della simulazione: {len(times)/24:.0f} giorni ({len(times)} ore)")

print("\n--- Produzione Totale Annuale ---")
total_annual_bifacial_kwh = monthly_production_df['Bifacial_kWh_Monthly'].sum()
total_annual_monofacial_kwh = monthly_production_df['Monofacial_kWh_Monthly'].sum()
print(f"Produzione Totale Annuale Bifacciale: {total_annual_bifacial_kwh:.2f} kWh")
print(f"Produzione Totale Annuale Monofacciale: {total_annual_monofacial_kwh:.2f} kWh")
print(f"Guadagno Bifacciale Percentuale: {((total_annual_bifacial_kwh - total_annual_monofacial_kwh) / total_annual_monofacial_kwh) * 100:.2f}%")

print("\n--- Produzione Mensile (kWh) ---")
display(monthly_production_df)

# --- VISUALIZZAZIONE DEL GRAFICO DELL'IRRADIANZA ---
# Questo plot mostra l'irradianza posteriore per i primi giorni, utile per diagnostica.
# Non è più correlato direttamente ai dati mensili, ma serve per verificare l'output di pvfactors.
# Per non appesantire il grafico con un anno intero, mostriamo solo i primi 2 giorni.
irrad_first_two_days = irrad.loc[times[0] : times[0] + pd.Timedelta(days=2)]
irrad_first_two_days[['total_inc_back', 'total_abs_back']].plot(figsize=(12, 6))
plt.ylabel('Irradianza [W m$^{-2}$]')
plt.title('Irradianza Posteriore Incidente e Assorbita (Primi 2 Giorni)')
plt.grid(True)
plt.show()

# --- GRAFICO RIASSUNTIVO DELLA PRODUZIONE MENSILE ---
plt.figure(figsize=(12, 6))
monthly_production_df.set_index('Month')[['Bifacial_kWh_Monthly', 'Monofacial_kWh_Monthly']].plot(kind='bar', figsize=(12, 6))
plt.ylabel('Produzione [kWh]')
plt.title('Produzione Mensile (Bifacciale vs Monofacciale)')
plt.xticks(rotation=45, ha='right')
plt.grid(axis='y')
plt.tight_layout()
plt.show()
